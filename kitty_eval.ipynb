{
 "cells": [
  {
   "cell_type": "code",
   "execution_count": 41,
   "outputs": [],
   "source": [
    "\n",
    "\n",
    "import pickle\n",
    "from dataclasses import dataclass\n",
    "from pathlib import Path\n",
    "from typing import List\n",
    "\n",
    "import numpy as np\n",
    "import torch\n",
    "from detectron2.structures import Boxes\n",
    "from matplotlib import pyplot as plt\n",
    "from sklearn.model_selection import train_test_split\n",
    "from torch.utils.data import DataLoader, Subset\n",
    "from torch.utils.data import RandomSampler\n",
    "from torchvision import transforms as tf\n",
    "from torchvision.datasets import ImageFolder\n",
    "from torchvision.datasets import Kitti\n",
    "from tqdm import tqdm\n",
    "from xgboost.sklearn import XGBClassifier\n",
    "\n",
    "from grit.modeling.meta_arch.grit import GRiT\n",
    "from main import get_model"
   ],
   "metadata": {
    "collapsed": false
   }
  },
  {
   "cell_type": "code",
   "execution_count": 1,
   "outputs": [],
   "source": [
    "@dataclass\n",
    "class ModelArgs:\n",
    "    config_file: str\n",
    "    test_task: str\n",
    "    opts: List[str]\n",
    "    confidence_threshold: float = 0.5\n",
    "\n",
    "args_densecap = ModelArgs(\n",
    "    config_file='config/gritty.yaml',\n",
    "    test_task=\"DenseCap\",\n",
    "    opts=[\"MODEL.WEIGHTS\", \"models/grit_b_densecap_objectdet.pth\"]\n",
    ")\n",
    "args_finetuned = ModelArgs(\n",
    "    config_file='config/finetuned_gritty.yaml',\n",
    "    test_task=\"DenseCap\",\n",
    "    opts=[]\n",
    ")\n",
    "\n",
    "grit_model, input_format, aug, cfg = get_model(args_densecap)\n",
    "grit_model_finetuned, input_format_finetuned, aug_finetuned, cfg_finetuned = get_model(args_finetuned)"
   ],
   "metadata": {
    "collapsed": false
   }
  },
  {
   "cell_type": "code",
   "execution_count": 39,
   "outputs": [],
   "source": [
    "def train_classifier(model: GRiT, aug, data_loader: DataLoader):\n",
    "    model.eval()\n",
    "    model.roi_heads.finetune = False\n",
    "\n",
    "    shapenet_object_features = []\n",
    "    shapenet_labels = []\n",
    "\n",
    "    n_skipped = 0\n",
    "\n",
    "    with torch.no_grad():\n",
    "        for batch, (images, labels) in enumerate(tqdm(data_loader)):\n",
    "            for i, image in enumerate(images):\n",
    "                image = image.numpy().transpose(1, 2, 0)\n",
    "                height, width = image.shape[:2]\n",
    "                image = aug.get_transform(image).apply_image(image)\n",
    "                image = torch.as_tensor(image.astype(\"float32\").transpose(2, 0, 1))\n",
    "                inputs = [{\"image\": image, \"height\": height, \"width\": width}]\n",
    "\n",
    "                predictions, stuff = model.forward(inputs)\n",
    "\n",
    "                instances = predictions[0][\"instances\"]\n",
    "                if len(instances.pred_boxes) < 1:\n",
    "                    n_skipped += 1\n",
    "                    continue\n",
    "\n",
    "                # print(\"found one\")\n",
    "                # plt.imshow(image.numpy().astype(\"int\").transpose(1, 2, 0))\n",
    "                # print(instances)\n",
    "                # exit = True\n",
    "                # break\n",
    "\n",
    "                n_instances, _, _ = instances.object_features.shape\n",
    "                shapenet_object_features.extend(instances.object_features.cpu())\n",
    "                shapenet_labels.extend(np.repeat(labels[i].item(), n_instances))\n",
    "\n",
    "            if len(shapenet_object_features) > 500:\n",
    "                break\n",
    "\n",
    "    shapenet_features = torch.stack(shapenet_object_features)\n",
    "    shapenet_features = shapenet_features.flatten(start_dim=1)\n",
    "\n",
    "    x_train, x_test, y_train, y_test = train_test_split(\n",
    "        shapenet_features, shapenet_labels, test_size=0.2, random_state=42\n",
    "    )\n",
    "\n",
    "    classifier = XGBClassifier(predictor=\"gpu_predictor\", gpu_id=model.device.index)\n",
    "    classifier.fit(x_train, y_train)\n",
    "\n",
    "    accuracy = classifier.score(x_test, y_test)\n",
    "    print(f\"accuracy: {accuracy}\")\n",
    "    print(f\"skipped {n_skipped} images\")\n",
    "\n",
    "    return classifier"
   ],
   "metadata": {
    "collapsed": false
   }
  },
  {
   "cell_type": "markdown",
   "source": [],
   "metadata": {
    "collapsed": false
   }
  },
  {
   "cell_type": "code",
   "execution_count": 42,
   "outputs": [
    {
     "name": "stderr",
     "output_type": "stream",
     "text": [
      " 24%|██▍       | 30/125 [00:52<02:45,  1.74s/it]\n"
     ]
    },
    {
     "name": "stdout",
     "output_type": "stream",
     "text": [
      "accuracy: 0.7864077669902912\n",
      "skipped 0 images\n"
     ]
    },
    {
     "name": "stderr",
     "output_type": "stream",
     "text": [
      "100%|██████████| 125/125 [01:09<00:00,  1.80it/s]\n"
     ]
    },
    {
     "name": "stdout",
     "output_type": "stream",
     "text": [
      "accuracy: 0.3783783783783784\n",
      "skipped 916 images\n"
     ]
    }
   ],
   "source": [
    "shapenet_img_root = Path(\"data/car_images\")\n",
    "transform = tf.Compose([\n",
    "    tf.Resize((200, 200)),\n",
    "    tf.PILToTensor(),\n",
    "])\n",
    "shapenet_dataset = ImageFolder(shapenet_img_root, transform=transform)\n",
    "indices = np.random.choice(np.arange(len(shapenet_dataset)), size=1000)\n",
    "subset = Subset(shapenet_dataset, indices)\n",
    "# sampler = RandomSampler(data_source=shapenet_dataset)\n",
    "shapenet_data_loader = DataLoader(subset, batch_size=8, shuffle=False)\n",
    "\n",
    "classifier = train_classifier(grit_model, aug, shapenet_data_loader)\n",
    "classifier_finetuned = train_classifier(grit_model_finetuned, aug_finetuned, shapenet_data_loader)"
   ],
   "metadata": {
    "collapsed": false
   }
  },
  {
   "cell_type": "code",
   "execution_count": 2,
   "outputs": [],
   "source": [
    "data_path = Path(\"data/classifier\")\n",
    "\n",
    "with open(data_path / f'xgboost_classifier.pickle', 'rb') as handle:\n",
    "    classifier: XGBClassifier = pickle.load(handle)"
   ],
   "metadata": {
    "collapsed": false
   }
  },
  {
   "cell_type": "code",
   "execution_count": 3,
   "outputs": [],
   "source": [
    "transform = tf.Compose([\n",
    "    # tf.Resize((200, 200)),\n",
    "    tf.PILToTensor(),\n",
    "])\n",
    "\n",
    "dataset = Kitti(\"/home/markus/dev/EgoNet\", transform=transform, download=False)\n",
    "data_loader = DataLoader(dataset, batch_size=1)"
   ],
   "metadata": {
    "collapsed": false
   }
  },
  {
   "cell_type": "code",
   "execution_count": 4,
   "outputs": [
    {
     "name": "stderr",
     "output_type": "stream",
     "text": [
      "  0%|          | 0/7481 [00:00<?, ?it/s]/home/markus/miniconda3/envs/gritty-transformers/lib/python3.8/site-packages/torchvision/transforms/functional.py:165: UserWarning: The given NumPy array is not writeable, and PyTorch does not support non-writeable tensors. This means you can write to the underlying (supposedly non-writeable) NumPy array using the tensor. You may want to copy the array to protect its data or make it writeable before converting it to a tensor. This type of warning will be suppressed for the rest of this program. (Triggered internally at  /pytorch/torch/csrc/utils/tensor_numpy.cpp:180.)\n",
      "  img = torch.as_tensor(np.asarray(pic))\n",
      "/home/markus/miniconda3/envs/gritty-transformers/lib/python3.8/site-packages/torch/nn/functional.py:718: UserWarning: Named tensors and all their associated APIs are an experimental feature and subject to change. Please do not use them for anything important until they are released as stable. (Triggered internally at  /pytorch/c10/core/TensorImpl.h:1156.)\n",
      "  return torch.max_pool2d(input, kernel_size, stride, padding, dilation, ceil_mode)\n",
      "100%|██████████| 7481/7481 [14:29<00:00,  8.61it/s]\n"
     ]
    }
   ],
   "source": [
    "pi_half = np.pi / 2\n",
    "MAPPING = {0: 'BACK_LEFT', 1: 'BACK_RIGHT', 2: 'FRONT_LEFT', 3: 'FRONT_RIGHT'}\n",
    "REVERSE_MAPPING = { v: k for k, v in MAPPING.items() }\n",
    "TRUNCATED_THRESHOLD = 0.5\n",
    "OCCLUSION_CLASS = 0\n",
    "\n",
    "def get_alpha_class(alpha: float) -> str:\n",
    "    if alpha <= 0 and alpha > -pi_half:\n",
    "        return 'BACK_LEFT'\n",
    "    elif alpha <= -pi_half and alpha > -np.pi:\n",
    "        return 'BACK_RIGHT'\n",
    "    elif alpha <= np.pi and alpha > pi_half:\n",
    "        return 'FRONT_RIGHT'\n",
    "    elif alpha <= pi_half and alpha > 0:\n",
    "        return 'FRONT_LEFT'\n",
    "\n",
    "grit_model.eval()\n",
    "\n",
    "gt_classes = []\n",
    "predicted_classes = []\n",
    "\n",
    "images_per_class = {\n",
    "    0: [],\n",
    "    1: [],\n",
    "    2: [],\n",
    "    3: []\n",
    "}\n",
    "\n",
    "with torch.no_grad():\n",
    "    for images, targets in tqdm(data_loader):\n",
    "        image = images[0]\n",
    "        classes = []\n",
    "        inputs = []\n",
    "        image_boxes = []\n",
    "\n",
    "        # if len(images_per_class[0]) > 10 and len(images_per_class[1]) > 10 and len(images_per_class[2]) > 10 and len(images_per_class[3]) > 10:\n",
    "        #     break\n",
    "\n",
    "        for i, target in enumerate(targets):\n",
    "            if target['type'][0] != 'Car' or target['truncated'][0] > TRUNCATED_THRESHOLD or target['occluded'][0] != OCCLUSION_CLASS:\n",
    "                continue\n",
    "\n",
    "            alpha_class = get_alpha_class(target['alpha'][0])\n",
    "            # x_min, y_min, x_max, y_max\n",
    "            classes.append(alpha_class)\n",
    "\n",
    "            x_min, y_min, x_max, y_max = target['bbox']\n",
    "            image_boxes.append((x_min[0], y_min[0], x_max[0], y_max[0]))\n",
    "\n",
    "        boxes = Boxes(image_boxes)\n",
    "        boxes = boxes.to(torch.device(\"cuda\"))\n",
    "\n",
    "        # TODO: do not do it this way around..\n",
    "        image = image.numpy().transpose(1, 2, 0)\n",
    "        height, width = image.shape[:2]\n",
    "        image = aug.get_transform(image).apply_image(image)\n",
    "        image = torch.as_tensor(image.astype(\"float32\").transpose(2, 0, 1)).to('cuda')\n",
    "\n",
    "        scale_x, scale_y = (\n",
    "            image.shape[2] / width,\n",
    "            image.shape[1] / height,\n",
    "        )\n",
    "        boxes.scale(scale_x, scale_y)\n",
    "\n",
    "        inputs = [{\"image\": image, \"height\": height, \"width\": width}]\n",
    "\n",
    "        if len(boxes) < 1:\n",
    "            continue\n",
    "\n",
    "        _images = grit_model.preprocess_image(inputs)\n",
    "        features = grit_model.backbone(_images.tensor)\n",
    "        roi_features = [features[f] for f in grit_model.roi_heads.box_in_features]\n",
    "\n",
    "        object_features = grit_model.roi_heads.object_feat_pooler(roi_features, [boxes])\n",
    "        object_features = object_features.view(object_features.shape[0], object_features.shape[1], -1).permute(0, 2, 1).contiguous()\n",
    "\n",
    "        classifier_features = object_features.to('cpu').flatten(start_dim=1)\n",
    "        predictions = classifier.predict(classifier_features)\n",
    "\n",
    "        predicted_classes.extend(predictions)\n",
    "        gt_classes.extend([REVERSE_MAPPING[c] for c in classes])\n",
    "\n",
    "        for i, box in enumerate(boxes.tensor):\n",
    "            x_min, y_min, x_max, y_max = box\n",
    "            image_box = image.cpu()[:, int(y_min):int(y_max), int(x_min):int(x_max)].clone()\n",
    "\n",
    "            images_per_class[REVERSE_MAPPING[classes[i]]].append(\n",
    "                (predictions[i], image_box)\n",
    "            )"
   ],
   "metadata": {
    "collapsed": false
   }
  },
  {
   "cell_type": "code",
   "execution_count": 5,
   "outputs": [
    {
     "name": "stdout",
     "output_type": "stream",
     "text": [
      "11806\n",
      "11806\n",
      "torch.Size([2, 50176])\n",
      "0.431560223615111\n"
     ]
    }
   ],
   "source": [
    "predicted_classes = np.array(predicted_classes).astype(int)\n",
    "gt_classes = np.array(gt_classes).astype(int)\n",
    "\n",
    "print(len(predicted_classes))\n",
    "print(len(gt_classes))\n",
    "print(classifier_features.shape)\n",
    "\n",
    "accuracy = (predicted_classes == gt_classes).sum() / len(gt_classes)\n",
    "\n",
    "print(accuracy)"
   ],
   "metadata": {
    "collapsed": false
   }
  },
  {
   "cell_type": "code",
   "execution_count": 6,
   "outputs": [
    {
     "data": {
      "text/plain": "<sklearn.metrics._plot.confusion_matrix.ConfusionMatrixDisplay at 0x7f2574c6e220>"
     },
     "execution_count": 6,
     "metadata": {},
     "output_type": "execute_result"
    },
    {
     "data": {
      "text/plain": "<Figure size 640x480 with 2 Axes>",
      "image/png": "[encoded data removed]"
     },
     "metadata": {},
     "output_type": "display_data"
    }
   ],
   "source": [
    "from sklearn.metrics import ConfusionMatrixDisplay\n",
    "\n",
    "ConfusionMatrixDisplay.from_predictions(y_true=gt_classes, y_pred=predicted_classes, display_labels=[\n",
    "    v for v in MAPPING.values()\n",
    "])"
   ],
   "metadata": {
    "collapsed": false
   }
  },
  {
   "cell_type": "code",
   "execution_count": 7,
   "outputs": [
    {
     "name": "stderr",
     "output_type": "stream",
     "text": [
      "WARNING:bokeh.core.validation.check:W-1005 (FIXED_SIZING_MODE): 'fixed' sizing mode requires width and height to be set: Column(id='p4653', ...)\n",
      "WARNING:bokeh.core.validation.check:W-1005 (FIXED_SIZING_MODE): 'fixed' sizing mode requires width and height to be set: Row(id='p4649', ...)\n",
      "WARNING:bokeh.core.validation.check:W-1005 (FIXED_SIZING_MODE): 'fixed' sizing mode requires width and height to be set: Row(id='p4650', ...)\n",
      "WARNING:bokeh.core.validation.check:W-1005 (FIXED_SIZING_MODE): 'fixed' sizing mode requires width and height to be set: Row(id='p4651', ...)\n",
      "WARNING:bokeh.core.validation.check:W-1005 (FIXED_SIZING_MODE): 'fixed' sizing mode requires width and height to be set: Row(id='p4652', ...)\n",
      "WARNING:bokeh.core.validation.check:W-1005 (FIXED_SIZING_MODE): 'fixed' sizing mode requires width and height to be set: Column(id='p4653', ...)\n",
      "WARNING:bokeh.core.validation.check:W-1005 (FIXED_SIZING_MODE): 'fixed' sizing mode requires width and height to be set: Row(id='p4649', ...)\n",
      "WARNING:bokeh.core.validation.check:W-1005 (FIXED_SIZING_MODE): 'fixed' sizing mode requires width and height to be set: Row(id='p4650', ...)\n",
      "WARNING:bokeh.core.validation.check:W-1005 (FIXED_SIZING_MODE): 'fixed' sizing mode requires width and height to be set: Row(id='p4651', ...)\n",
      "WARNING:bokeh.core.validation.check:W-1005 (FIXED_SIZING_MODE): 'fixed' sizing mode requires width and height to be set: Row(id='p4652', ...)\n",
      "[06/09 13:05:05] selenium.webdriver.common.selenium_manager WARNING: The version of chrome cannot be detected. Trying with latest driver version\n"
     ]
    },
    {
     "ename": "RuntimeError",
     "evalue": "Neither firefox and geckodriver nor a variant of chromium browser and chromedriver are available on system PATH. You can install the former with 'conda install -c conda-forge firefox geckodriver'.",
     "output_type": "error",
     "traceback": [
      "\u001B[0;31m---------------------------------------------------------------------------\u001B[0m",
      "\u001B[0;31mRuntimeError\u001B[0m                              Traceback (most recent call last)",
      "Cell \u001B[0;32mIn[7], line 39\u001B[0m\n\u001B[1;32m     37\u001B[0m fig \u001B[38;5;241m=\u001B[39m layout(plots, sizing_mode\u001B[38;5;241m=\u001B[39m\u001B[38;5;124m\"\u001B[39m\u001B[38;5;124mfixed\u001B[39m\u001B[38;5;124m\"\u001B[39m)\n\u001B[1;32m     38\u001B[0m show(fig)\n\u001B[0;32m---> 39\u001B[0m \u001B[43mexport_png\u001B[49m\u001B[43m(\u001B[49m\u001B[43mfig\u001B[49m\u001B[43m,\u001B[49m\u001B[43m \u001B[49m\u001B[43mfilename\u001B[49m\u001B[38;5;241;43m=\u001B[39;49m\u001B[38;5;124;43m\"\u001B[39;49m\u001B[38;5;124;43mcars.png\u001B[39;49m\u001B[38;5;124;43m\"\u001B[39;49m\u001B[43m)\u001B[49m\n",
      "File \u001B[0;32m~/miniconda3/envs/gritty-transformers/lib/python3.8/site-packages/bokeh/io/export.py:116\u001B[0m, in \u001B[0;36mexport_png\u001B[0;34m(obj, filename, width, height, webdriver, timeout, state)\u001B[0m\n\u001B[1;32m     74\u001B[0m \u001B[38;5;28;01mdef\u001B[39;00m \u001B[38;5;21mexport_png\u001B[39m(obj: UIElement \u001B[38;5;241m|\u001B[39m Document, \u001B[38;5;241m*\u001B[39m, filename: PathLike \u001B[38;5;241m|\u001B[39m \u001B[38;5;28;01mNone\u001B[39;00m \u001B[38;5;241m=\u001B[39m \u001B[38;5;28;01mNone\u001B[39;00m, width: \u001B[38;5;28mint\u001B[39m \u001B[38;5;241m|\u001B[39m \u001B[38;5;28;01mNone\u001B[39;00m \u001B[38;5;241m=\u001B[39m \u001B[38;5;28;01mNone\u001B[39;00m,\n\u001B[1;32m     75\u001B[0m         height: \u001B[38;5;28mint\u001B[39m \u001B[38;5;241m|\u001B[39m \u001B[38;5;28;01mNone\u001B[39;00m \u001B[38;5;241m=\u001B[39m \u001B[38;5;28;01mNone\u001B[39;00m, webdriver: WebDriver \u001B[38;5;241m|\u001B[39m \u001B[38;5;28;01mNone\u001B[39;00m \u001B[38;5;241m=\u001B[39m \u001B[38;5;28;01mNone\u001B[39;00m, timeout: \u001B[38;5;28mint\u001B[39m \u001B[38;5;241m=\u001B[39m \u001B[38;5;241m5\u001B[39m, state: State \u001B[38;5;241m|\u001B[39m \u001B[38;5;28;01mNone\u001B[39;00m \u001B[38;5;241m=\u001B[39m \u001B[38;5;28;01mNone\u001B[39;00m) \u001B[38;5;241m-\u001B[39m\u001B[38;5;241m>\u001B[39m \u001B[38;5;28mstr\u001B[39m:\n\u001B[1;32m     76\u001B[0m \u001B[38;5;250m    \u001B[39m\u001B[38;5;124;03m''' Export the ``UIElement`` object or document as a PNG.\u001B[39;00m\n\u001B[1;32m     77\u001B[0m \n\u001B[1;32m     78\u001B[0m \u001B[38;5;124;03m    If the filename is not given, it is derived from the script name (e.g.\u001B[39;00m\n\u001B[0;32m   (...)\u001B[0m\n\u001B[1;32m    114\u001B[0m \n\u001B[1;32m    115\u001B[0m \u001B[38;5;124;03m    '''\u001B[39;00m\n\u001B[0;32m--> 116\u001B[0m     image \u001B[38;5;241m=\u001B[39m \u001B[43mget_screenshot_as_png\u001B[49m\u001B[43m(\u001B[49m\u001B[43mobj\u001B[49m\u001B[43m,\u001B[49m\u001B[43m \u001B[49m\u001B[43mwidth\u001B[49m\u001B[38;5;241;43m=\u001B[39;49m\u001B[43mwidth\u001B[49m\u001B[43m,\u001B[49m\u001B[43m \u001B[49m\u001B[43mheight\u001B[49m\u001B[38;5;241;43m=\u001B[39;49m\u001B[43mheight\u001B[49m\u001B[43m,\u001B[49m\u001B[43m \u001B[49m\u001B[43mdriver\u001B[49m\u001B[38;5;241;43m=\u001B[39;49m\u001B[43mwebdriver\u001B[49m\u001B[43m,\u001B[49m\u001B[43m \u001B[49m\u001B[43mtimeout\u001B[49m\u001B[38;5;241;43m=\u001B[39;49m\u001B[43mtimeout\u001B[49m\u001B[43m,\u001B[49m\u001B[43m \u001B[49m\u001B[43mstate\u001B[49m\u001B[38;5;241;43m=\u001B[39;49m\u001B[43mstate\u001B[49m\u001B[43m)\u001B[49m\n\u001B[1;32m    118\u001B[0m     \u001B[38;5;28;01mif\u001B[39;00m filename \u001B[38;5;129;01mis\u001B[39;00m \u001B[38;5;28;01mNone\u001B[39;00m:\n\u001B[1;32m    119\u001B[0m         filename \u001B[38;5;241m=\u001B[39m default_filename(\u001B[38;5;124m\"\u001B[39m\u001B[38;5;124mpng\u001B[39m\u001B[38;5;124m\"\u001B[39m)\n",
      "File \u001B[0;32m~/miniconda3/envs/gritty-transformers/lib/python3.8/site-packages/bokeh/io/export.py:254\u001B[0m, in \u001B[0;36mget_screenshot_as_png\u001B[0;34m(obj, driver, timeout, resources, width, height, state)\u001B[0m\n\u001B[1;32m    251\u001B[0m \u001B[38;5;28;01mwith\u001B[39;00m \u001B[38;5;28mopen\u001B[39m(tmp\u001B[38;5;241m.\u001B[39mpath, mode\u001B[38;5;241m=\u001B[39m\u001B[38;5;124m\"\u001B[39m\u001B[38;5;124mw\u001B[39m\u001B[38;5;124m\"\u001B[39m, encoding\u001B[38;5;241m=\u001B[39m\u001B[38;5;124m\"\u001B[39m\u001B[38;5;124mutf-8\u001B[39m\u001B[38;5;124m\"\u001B[39m) \u001B[38;5;28;01mas\u001B[39;00m file:\n\u001B[1;32m    252\u001B[0m     file\u001B[38;5;241m.\u001B[39mwrite(html)\n\u001B[0;32m--> 254\u001B[0m web_driver \u001B[38;5;241m=\u001B[39m driver \u001B[38;5;28;01mif\u001B[39;00m driver \u001B[38;5;129;01mis\u001B[39;00m \u001B[38;5;129;01mnot\u001B[39;00m \u001B[38;5;28;01mNone\u001B[39;00m \u001B[38;5;28;01melse\u001B[39;00m \u001B[43mwebdriver_control\u001B[49m\u001B[38;5;241;43m.\u001B[39;49m\u001B[43mget\u001B[49m\u001B[43m(\u001B[49m\u001B[43m)\u001B[49m\n\u001B[1;32m    255\u001B[0m web_driver\u001B[38;5;241m.\u001B[39mmaximize_window()\n\u001B[1;32m    256\u001B[0m web_driver\u001B[38;5;241m.\u001B[39mget(\u001B[38;5;124mf\u001B[39m\u001B[38;5;124m\"\u001B[39m\u001B[38;5;124mfile://\u001B[39m\u001B[38;5;132;01m{\u001B[39;00mtmp\u001B[38;5;241m.\u001B[39mpath\u001B[38;5;132;01m}\u001B[39;00m\u001B[38;5;124m\"\u001B[39m)\n",
      "File \u001B[0;32m~/miniconda3/envs/gritty-transformers/lib/python3.8/site-packages/bokeh/io/webdriver.py:138\u001B[0m, in \u001B[0;36m_WebdriverState.get\u001B[0;34m(self)\u001B[0m\n\u001B[1;32m    136\u001B[0m \u001B[38;5;28;01mif\u001B[39;00m \u001B[38;5;129;01mnot\u001B[39;00m \u001B[38;5;28mself\u001B[39m\u001B[38;5;241m.\u001B[39mreuse \u001B[38;5;129;01mor\u001B[39;00m \u001B[38;5;28mself\u001B[39m\u001B[38;5;241m.\u001B[39mcurrent \u001B[38;5;129;01mis\u001B[39;00m \u001B[38;5;28;01mNone\u001B[39;00m:\n\u001B[1;32m    137\u001B[0m     \u001B[38;5;28mself\u001B[39m\u001B[38;5;241m.\u001B[39mreset()\n\u001B[0;32m--> 138\u001B[0m     \u001B[38;5;28mself\u001B[39m\u001B[38;5;241m.\u001B[39mcurrent \u001B[38;5;241m=\u001B[39m \u001B[38;5;28;43mself\u001B[39;49m\u001B[38;5;241;43m.\u001B[39;49m\u001B[43mcreate\u001B[49m\u001B[43m(\u001B[49m\u001B[43m)\u001B[49m\n\u001B[1;32m    139\u001B[0m \u001B[38;5;28;01mreturn\u001B[39;00m \u001B[38;5;28mself\u001B[39m\u001B[38;5;241m.\u001B[39mcurrent\n",
      "File \u001B[0;32m~/miniconda3/envs/gritty-transformers/lib/python3.8/site-packages/bokeh/io/webdriver.py:142\u001B[0m, in \u001B[0;36m_WebdriverState.create\u001B[0;34m(self, kind)\u001B[0m\n\u001B[1;32m    141\u001B[0m \u001B[38;5;28;01mdef\u001B[39;00m \u001B[38;5;21mcreate\u001B[39m(\u001B[38;5;28mself\u001B[39m, kind: DriverKind \u001B[38;5;241m|\u001B[39m \u001B[38;5;28;01mNone\u001B[39;00m \u001B[38;5;241m=\u001B[39m \u001B[38;5;28;01mNone\u001B[39;00m) \u001B[38;5;241m-\u001B[39m\u001B[38;5;241m>\u001B[39m WebDriver:\n\u001B[0;32m--> 142\u001B[0m     driver \u001B[38;5;241m=\u001B[39m \u001B[38;5;28;43mself\u001B[39;49m\u001B[38;5;241;43m.\u001B[39;49m\u001B[43m_create\u001B[49m\u001B[43m(\u001B[49m\u001B[43mkind\u001B[49m\u001B[43m)\u001B[49m\n\u001B[1;32m    143\u001B[0m     \u001B[38;5;28mself\u001B[39m\u001B[38;5;241m.\u001B[39m_drivers\u001B[38;5;241m.\u001B[39madd(driver)\n\u001B[1;32m    144\u001B[0m     \u001B[38;5;28;01mreturn\u001B[39;00m driver\n",
      "File \u001B[0;32m~/miniconda3/envs/gritty-transformers/lib/python3.8/site-packages/bokeh/io/webdriver.py:160\u001B[0m, in \u001B[0;36m_WebdriverState._create\u001B[0;34m(self, kind)\u001B[0m\n\u001B[1;32m    157\u001B[0m         \u001B[38;5;28mself\u001B[39m\u001B[38;5;241m.\u001B[39mkind \u001B[38;5;241m=\u001B[39m \u001B[38;5;124m\"\u001B[39m\u001B[38;5;124mfirefox\u001B[39m\u001B[38;5;124m\"\u001B[39m\n\u001B[1;32m    158\u001B[0m         \u001B[38;5;28;01mreturn\u001B[39;00m driver\n\u001B[0;32m--> 160\u001B[0m     \u001B[38;5;28;01mraise\u001B[39;00m \u001B[38;5;167;01mRuntimeError\u001B[39;00m(\u001B[38;5;124m\"\u001B[39m\u001B[38;5;124mNeither firefox and geckodriver nor a variant of chromium browser and \u001B[39m\u001B[38;5;124m\"\u001B[39m \\\n\u001B[1;32m    161\u001B[0m                        \u001B[38;5;124m\"\u001B[39m\u001B[38;5;124mchromedriver are available on system PATH. You can install the former \u001B[39m\u001B[38;5;124m\"\u001B[39m \\\n\u001B[1;32m    162\u001B[0m                        \u001B[38;5;124m\"\u001B[39m\u001B[38;5;124mwith \u001B[39m\u001B[38;5;124m'\u001B[39m\u001B[38;5;124mconda install -c conda-forge firefox geckodriver\u001B[39m\u001B[38;5;124m'\u001B[39m\u001B[38;5;124m.\u001B[39m\u001B[38;5;124m\"\u001B[39m)\n\u001B[1;32m    163\u001B[0m \u001B[38;5;28;01melif\u001B[39;00m driver_kind \u001B[38;5;241m==\u001B[39m \u001B[38;5;124m\"\u001B[39m\u001B[38;5;124mchromium\u001B[39m\u001B[38;5;124m\"\u001B[39m:\n\u001B[1;32m    164\u001B[0m     \u001B[38;5;28;01mreturn\u001B[39;00m create_chromium_webdriver()\n",
      "\u001B[0;31mRuntimeError\u001B[0m: Neither firefox and geckodriver nor a variant of chromium browser and chromedriver are available on system PATH. You can install the former with 'conda install -c conda-forge firefox geckodriver'."
     ]
    }
   ],
   "source": [
    "from bokeh.io import export_png\n",
    "from bokeh.models import Label\n",
    "import numpy as np\n",
    "from bokeh.plotting import figure, show, output_file\n",
    "\n",
    "from bokeh.layouts import layout\n",
    "# output_notebook()\n",
    "\n",
    "# print(shapenet_dataset.class_to_idx)\n",
    "# {'BACK_LEFT': 0, 'BACK_RIGHT': 1, 'FRONT_LEFT': 2, 'FRONT_RIGHT': 3}\n",
    "\n",
    "plots = []\n",
    "for cls, images in images_per_class.items():\n",
    "    cls_plots = []\n",
    "\n",
    "    for pred, img in images:\n",
    "        if len(cls_plots) > 15:\n",
    "            break\n",
    "        img = img.type(torch.uint8).cpu().numpy().transpose(1, 2, 0)\n",
    "        alpha = np.full((img.shape[0], img.shape[1], 1), 255)\n",
    "        img = np.concatenate((img, alpha), axis=2).astype(np.uint8)\n",
    "        view = np.ascontiguousarray(img).view(\"uint32\").reshape(img.shape[:2])\n",
    "        p = figure(width=200, height=200)\n",
    "\n",
    "        label = Label(x=5, y=10, x_units='screen', y_units='screen', text_alpha=1.0, text_color=(0, 255, 100) if pred == cls else (255, 50, 50), text=f\"pred: {MAPPING[pred]}\\nGT: {MAPPING[cls]}\")\n",
    "        p.add_layout(label)\n",
    "        p.image_rgba(image=[view], x=0, y=0, dw=img.shape[1], dh=img.shape[0], origin=\"top_left\")\n",
    "        p.axis.visible = False\n",
    "        p.toolbar.logo = None\n",
    "        p.toolbar_location = None\n",
    "        p.x_range.range_padding = p.y_range.range_padding = 0\n",
    "        cls_plots.append(p)\n",
    "\n",
    "    plots.append(cls_plots)\n",
    "\n",
    "output_file(\"xxxxx.html\")\n",
    "fig = layout(plots, sizing_mode=\"fixed\")\n",
    "show(fig)\n",
    "export_png(fig, filename=\"cars.png\")"
   ],
   "metadata": {
    "collapsed": false
   }
  },
  {
   "cell_type": "code",
   "execution_count": null,
   "metadata": {
    "collapsed": true
   },
   "outputs": [],
   "source": [
    "import numpy as np\n",
    "import csv\n",
    "\n",
    "# annotation style of KITTI dataset\n",
    "FIELDNAMES = ['type',\n",
    "              'truncated',\n",
    "              'occluded',\n",
    "              'alpha',\n",
    "              'xmin',\n",
    "              'ymin',\n",
    "              'xmax',\n",
    "              'ymax',\n",
    "              'dh',\n",
    "              'dw',\n",
    "              'dl',\n",
    "              'lx',\n",
    "              'ly',\n",
    "              'lz',\n",
    "              'ry']\n",
    "\n",
    "TYPE_ID_CONVERSION = {\n",
    "    'Car': 0,\n",
    "    'Cyclist': 1,\n",
    "    'Pedestrian': 2,\n",
    "}\n",
    "\n",
    "def csv_read_annot(self, file_path, fieldnames):\n",
    "    \"\"\"\n",
    "    Read instance attributes in the KITTI format. Instances not in the\n",
    "    selected class will be ignored.\n",
    "\n",
    "    A list of python dictionary is returned where each dictionary\n",
    "    represents one instsance.\n",
    "    \"\"\"\n",
    "    annotations = []\n",
    "    with open(file_path, 'r') as csv_file:\n",
    "        reader = csv.DictReader(csv_file, delimiter=' ', fieldnames=fieldnames)\n",
    "        for line, row in enumerate(reader):\n",
    "            if row[\"type\"] in self._classes:\n",
    "                annot_dict = {\n",
    "                    \"class\": row[\"type\"],\n",
    "                    \"label\": TYPE_ID_CONVERSION[row[\"type\"]],\n",
    "                    \"truncation\": float(row[\"truncated\"]),\n",
    "                    \"occlusion\": float(row[\"occluded\"]),\n",
    "                    \"alpha\": float(row[\"alpha\"]),\n",
    "                    \"dimensions\": [float(row['dl']),\n",
    "                                   float(row['dh']),\n",
    "                                   float(row['dw'])\n",
    "                                   ],\n",
    "                    \"locations\": [float(row['lx']),\n",
    "                                  float(row['ly']),\n",
    "                                  float(row['lz'])\n",
    "                                  ],\n",
    "                    \"rot_y\": float(row[\"ry\"]),\n",
    "                    \"bbox\": [float(row[\"xmin\"]),\n",
    "                             float(row[\"ymin\"]),\n",
    "                             float(row[\"xmax\"]),\n",
    "                             float(row[\"ymax\"])\n",
    "                             ]\n",
    "                }\n",
    "                if \"score\" in fieldnames:\n",
    "                    annot_dict[\"score\"] = float(row[\"score\"])\n",
    "                annotations.append(annot_dict)\n",
    "    return annotations\n",
    "\n",
    "def csv_read_calib(self, file_path):\n",
    "    \"\"\"\n",
    "    Read camera projection matrix in the KITTI format.\n",
    "    \"\"\"\n",
    "    with open(file_path, 'r') as csv_file:\n",
    "        reader = csv.reader(csv_file, delimiter=' ')\n",
    "        for line, row in enumerate(reader):\n",
    "            if row[0] == 'P2:':\n",
    "                P = row[1:]\n",
    "                P = [float(i) for i in P]\n",
    "                P = np.array(P, dtype=np.float32).reshape(3, 4)\n",
    "                break\n",
    "    return P\n",
    "\n",
    "def load_annotations(self, label_path, calib_path, fieldnames=FIELDNAMES):\n",
    "        \"\"\"\n",
    "        Read 3D annotation and camera parameters.\n",
    "        \"\"\"\n",
    "        if self.split in ['train', 'valid', 'trainvalid', 'test']:\n",
    "            annotations = self.csv_read_annot(label_path, fieldnames)\n",
    "        # get camera intrinsic matrix K\n",
    "        P = self.csv_read_calib(calib_path)\n",
    "        return annotations, P"
   ]
  }
 ],
 "metadata": {
  "kernelspec": {
   "display_name": "Python 3",
   "language": "python",
   "name": "python3"
  },
  "language_info": {
   "codemirror_mode": {
    "name": "ipython",
    "version": 2
   },
   "file_extension": ".py",
   "mimetype": "text/x-python",
   "name": "python",
   "nbconvert_exporter": "python",
   "pygments_lexer": "ipython2",
   "version": "2.7.6"
  }
 },
 "nbformat": 4,
 "nbformat_minor": 0
}
