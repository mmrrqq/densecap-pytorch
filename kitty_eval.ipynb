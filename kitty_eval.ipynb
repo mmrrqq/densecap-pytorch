{
 "cells": [
  {
   "cell_type": "code",
   "execution_count": 2,
   "metadata": {
    "collapsed": false
   },
   "outputs": [],
   "source": [
    "\n",
    "import json\n",
    "import pickle\n",
    "from pathlib import Path\n",
    "from typing import List\n",
    "\n",
    "import numpy as np\n",
    "import torch\n",
    "from sklearn.model_selection import train_test_split\n",
    "from torch.utils.data import DataLoader, Subset\n",
    "from torchvision import transforms as tf\n",
    "from torchvision.datasets import Kitti\n",
    "from tqdm import tqdm\n",
    "from xgboost.sklearn import XGBClassifier\n",
    "\n",
    "from model.densecap import DenseCapModel, densecap_resnet50_fpn"
   ]
  },
  {
   "cell_type": "code",
   "execution_count": 3,
   "metadata": {
    "collapsed": false
   },
   "outputs": [],
   "source": [
    "pi_half = np.pi / 2\n",
    "MAPPING = {0: 'BACK_LEFT', 1: 'BACK_RIGHT', 2: 'FRONT_LEFT', 3: 'FRONT_RIGHT'}\n",
    "REVERSE_MAPPING = { v: k for k, v in MAPPING.items() }\n",
    "TRUNCATED_THRESHOLD = 0.05\n",
    "OCCLUSION_CLASS = 0\n",
    "\n",
    "def get_alpha_class(alpha: float) -> str:\n",
    "    if alpha <= 0 and alpha > -pi_half:\n",
    "        return 'BACK_LEFT'\n",
    "    elif alpha <= -pi_half and alpha > -np.pi:\n",
    "        return 'BACK_RIGHT'\n",
    "    elif alpha <= np.pi and alpha > pi_half:\n",
    "        return 'FRONT_RIGHT'\n",
    "    elif alpha <= pi_half and alpha > 0:\n",
    "        return 'FRONT_LEFT'"
   ]
  },
  {
   "cell_type": "code",
   "execution_count": 4,
   "metadata": {
    "collapsed": false
   },
   "outputs": [],
   "source": [
    "def load_model(model_config_path: Path, checkpoint_path: Path, return_features=False, box_per_img=50, verbose=False):\n",
    "    with open(model_config_path, 'r') as f:\n",
    "        model_args = json.load(f)\n",
    "\n",
    "    model = densecap_resnet50_fpn(backbone_pretrained=model_args['backbone_pretrained'],\n",
    "                                  return_features=return_features,\n",
    "                                  feat_size=model_args['feat_size'],\n",
    "                                  hidden_size=model_args['hidden_size'],\n",
    "                                  max_len=model_args['max_len'],\n",
    "                                  emb_size=model_args['emb_size'],\n",
    "                                  rnn_num_layers=model_args['rnn_num_layers'],\n",
    "                                  vocab_size=model_args['vocab_size'],\n",
    "                                  fusion_type=model_args['fusion_type'],\n",
    "                                  box_detections_per_img=box_per_img)\n",
    "\n",
    "    checkpoint = torch.load(checkpoint_path)\n",
    "    model.load_state_dict(checkpoint['model'], strict=False)\n",
    "\n",
    "    if verbose and 'results_on_val' in checkpoint.keys():\n",
    "        print('[INFO]: checkpoint {} loaded'.format(checkpoint_path))\n",
    "        print('[INFO]: correspond performance on val set:')\n",
    "        for k, v in checkpoint['results_on_val'].items():\n",
    "            if not isinstance(v, dict):\n",
    "                print('        {}: {:.3f}'.format(k, v))\n",
    "\n",
    "    return model\n",
    "\n",
    "params_path = Path(\"compute_model_params\")\n",
    "model_name = \"without_aux\"\n",
    "aux_model_name = \"with_aux\"\n",
    "model = load_model(params_path / model_name / \"config.json\", params_path / (model_name +\n",
    " \".pth.tar\"), return_features=True)\n",
    "aux_model = load_model(params_path / aux_model_name / \"config.json\", params_path / (aux_model_name +\n",
    "\"_end.pth.tar\"), return_features=True)"
   ]
  },
  {
   "cell_type": "code",
   "execution_count": 8,
   "metadata": {
    "collapsed": false
   },
   "outputs": [],
   "source": [
    "device = torch.device('cuda')\n",
    "\n",
    "\n",
    "def train_feature_classifier(features: torch.Tensor, classes: List[int]):\n",
    "    x_train, x_test, y_train, y_test = train_test_split(\n",
    "        features, classes, train_size=200, test_size=100, random_state=42\n",
    "    )\n",
    "\n",
    "    classifier = XGBClassifier(predictor=\"gpu_predictor\", gpu_id=device.index)\n",
    "    classifier.fit(x_train, y_train)\n",
    "\n",
    "    accuracy = classifier.score(x_test, y_test)\n",
    "    print(f\"accuracy: {accuracy}\")\n",
    "    predictions = classifier.predict(features)\n",
    "\n",
    "    return classifier, predictions\n",
    "\n",
    "\n",
    "def train_classifier(model: DenseCapModel, data_loader: DataLoader):\n",
    "    model.eval()\n",
    "    model.to(device)\n",
    "    model.roi_heads.score_thresh = 0\n",
    "\n",
    "    object_features = []\n",
    "    backbone_features = []\n",
    "    pred_classes = []\n",
    "    gt_classes = []\n",
    "\n",
    "    with torch.no_grad():\n",
    "        # FOR NOW, ASSUME SINGLE ITEM BATCH!\n",
    "        for images, targets, _ in tqdm(data_loader):\n",
    "            image = images[0]\n",
    "            classes = []\n",
    "            image_boxes = []\n",
    "\n",
    "            val = image.shape[-2:]\n",
    "            torch._assert(\n",
    "                len(val) == 2,\n",
    "                f\"expecting the last two dimensions of the Tensor to be H and W instead got {image.shape[-2:]}\",\n",
    "            )\n",
    "            original_image_size = (val[0], val[1])\n",
    "\n",
    "            for target in targets:\n",
    "                if target['type'][0] != 'Car' or target['truncated'][0] > TRUNCATED_THRESHOLD or target['occluded'][0] != OCCLUSION_CLASS:\n",
    "                    continue\n",
    "\n",
    "                alpha_class = get_alpha_class(target['alpha'][0])\n",
    "                # x_min, y_min, x_max, y_max\n",
    "                classes.append(alpha_class)\n",
    "\n",
    "                x_min, y_min, x_max, y_max = target['bbox']\n",
    "                image_boxes.append(torch.tensor((x_min[0], y_min[0], x_max[0], y_max[0])).to(device))\n",
    "\n",
    "            if len(image_boxes) < 1:\n",
    "                continue\n",
    "\n",
    "            gt_classes.extend([REVERSE_MAPPING[c] for c in classes])\n",
    "\n",
    "            image_boxes = torch.stack(image_boxes).to(torch.float32).to(device)\n",
    "\n",
    "            # if images are transformed, I need to scale the boxes..\n",
    "            # apply model to image                        \n",
    "\n",
    "            # TODO: extract bounding boxes as single images\n",
    "            for box in image_boxes:\n",
    "                box = torch.floor(box).to(int)                \n",
    "                cut_image = images[:, :, box[1]:box[3], box[0]:box[2]].to(device)\n",
    "                # print(cut_image.shape)\n",
    "                cut_image, _ = model.transform(cut_image)\n",
    "                # print(cut_image.tensors.shape)\n",
    "                bb_features = model.backbone(cut_image.tensors)                \n",
    "                # if bb_features['pool'].shape[-1] > 1:\n",
    "                #     raise Exception\n",
    "                backbone_features.append(bb_features['pool'].squeeze())\n",
    "\n",
    "            images, _ = model.transform(images.to(device))\n",
    "            scale_x, scale_y = (\n",
    "                images.tensors[0].shape[2] / original_image_size[1],\n",
    "                images.tensors[0].shape[1] / original_image_size[0],\n",
    "            )\n",
    "            image_boxes[:, 0::2] *= scale_x\n",
    "            image_boxes[:, 1::2] *= scale_y\n",
    "\n",
    "            features = model.backbone(images.tensors)\n",
    "            roi_head_results, _ = model.roi_heads(features, [image_boxes], images.image_sizes)\n",
    "\n",
    "            roi_head_features = []\n",
    "            for res in roi_head_results:\n",
    "                roi_head_features.extend(res['feats'])\n",
    "                if \"views\" in res:\n",
    "                    pred_classes.extend(res[\"views\"])\n",
    "            object_features.extend(roi_head_features)            \n",
    "\n",
    "    backbone_features = torch.stack(backbone_features)\n",
    "    backbone_features = backbone_features.flatten(start_dim=1).cpu()\n",
    "\n",
    "    object_features = torch.stack(object_features)\n",
    "    object_features = object_features.flatten(start_dim=1).cpu()\n",
    "\n",
    "    print(\"training backbone classifier..\")\n",
    "    backbone_classifier, backbone_predictions = train_feature_classifier(backbone_features, gt_classes)\n",
    "    print(\"training object classifier..\")\n",
    "    object_classifier, object_predictions = train_feature_classifier(object_features, gt_classes)\n",
    "\n",
    "    return backbone_classifier, object_classifier, backbone_predictions, object_predictions, gt_classes, pred_classes"
   ]
  },
  {
   "cell_type": "code",
   "execution_count": 9,
   "metadata": {
    "collapsed": false
   },
   "outputs": [
    {
     "name": "stdout",
     "output_type": "stream",
     "text": [
      "aux classifier:\n"
     ]
    },
    {
     "name": "stderr",
     "output_type": "stream",
     "text": [
      "100%|██████████| 500/500 [00:51<00:00,  9.75it/s]\n"
     ]
    },
    {
     "name": "stdout",
     "output_type": "stream",
     "text": [
      "training backbone classifier..\n",
      "accuracy: 0.71\n",
      "training object classifier..\n",
      "accuracy: 0.56\n",
      "normal classifier:\n"
     ]
    },
    {
     "name": "stderr",
     "output_type": "stream",
     "text": [
      "100%|██████████| 500/500 [00:53<00:00,  9.43it/s]\n"
     ]
    },
    {
     "name": "stdout",
     "output_type": "stream",
     "text": [
      "training backbone classifier..\n",
      "accuracy: 0.76\n",
      "training object classifier..\n",
      "accuracy: 0.5\n"
     ]
    }
   ],
   "source": [
    "transform = tf.Compose([\n",
    "    # tf.Resize((200, 200)),\n",
    "    tf.ToTensor(),\n",
    "])\n",
    "\n",
    "dataset = Kitti(\"/home/markus/dev/EgoNet\", transform=transform, download=False)\n",
    "subset = Subset(dataset, np.random.default_rng().choice(np.arange(len(dataset)), 500))\n",
    "data_loader = DataLoader(subset, batch_size=1, shuffle=False)\n",
    "\n",
    "print(\"aux classifier:\")\n",
    "aux_backbone_classifier, aux_object_classifier, aux_backbone_predictions, aux_object_predictions, aux_gt_classes, aux_pred_classes = train_classifier(aux_model, data_loader)\n",
    "print(\"normal classifier:\")\n",
    "backbone_classifier, object_classifier, backbone_predictions, object_predictions, gt_classes, _ = train_classifier(model, data_loader)"
   ]
  },
  {
   "cell_type": "code",
   "execution_count": 10,
   "metadata": {
    "collapsed": false
   },
   "outputs": [
    {
     "name": "stdout",
     "output_type": "stream",
     "text": [
      "0.6523489932885906\n",
      "[2, 2, 2, 0, 0, 0, 2, 2, 0, 0, 2, 2, 0, 0, 0, 3, 0, 2, 2, 2, 3, 2, 2, 3, 2, 2, 2, 0, 0, 2, 2, 2, 2, 0, 2, 0, 0, 2, 0, 3, 2, 2, 0, 2, 0, 3, 0, 0, 0, 0, 0, 0, 2, 0, 3, 2, 2, 0, 0, 2, 0, 0, 0, 0, 0, 0, 0, 1, 2, 2, 0, 0, 0, 2, 3, 0, 2, 0, 0, 0, 2, 2, 2, 0, 3, 0, 0, 3, 3, 0, 0, 0, 0, 0, 0, 2, 0, 3, 2, 2, 3, 3, 2, 0, 0, 0, 2, 1, 0, 2, 0, 0, 2, 0, 0, 0, 1, 2, 2, 0, 0, 2, 0, 0, 0, 0, 2, 0, 3, 2, 2, 2, 2, 2, 2, 0, 2, 2, 0, 0, 0, 0, 2, 2, 2, 2, 0, 0, 0, 2, 3, 2, 2, 2, 0, 0, 2, 2, 2, 2, 2, 0, 2, 0, 2, 0, 2, 2, 0, 0, 0, 2, 2, 2, 2, 0, 3, 2, 2, 0, 0, 0, 0, 0, 0, 2, 0, 0, 0, 0, 3, 0, 2, 0, 0, 0, 0, 2, 0, 0, 0, 2, 2, 1, 2, 2, 0, 2, 2, 0, 0, 2, 0, 2, 2, 2, 0, 2, 0, 0, 0, 2, 0, 0, 2, 2, 0, 0, 2, 0, 0, 2, 2, 2, 2, 2, 2, 0, 0, 0, 0, 0, 0, 2, 2, 2, 0, 2, 2, 2, 0, 3, 2, 0, 2, 2, 2, 2, 0, 2, 2, 0, 2, 2, 0, 2, 0, 2, 2, 2, 0, 2, 0, 2, 1, 2, 2, 2, 2, 2, 0, 2, 2, 2, 0, 0, 1, 0, 2, 2, 2, 2, 0, 0, 0, 0, 2, 0, 2, 2, 1, 3, 0, 1, 2, 0, 0, 0, 0, 0, 3, 0, 1, 2, 0, 1, 2, 0, 0, 0, 2, 0, 1, 0, 1, 2, 2, 1, 0, 0, 0, 2, 2, 2, 1, 0, 0, 0, 0, 3, 0, 0, 2, 0, 2, 2, 3, 0, 0, 0, 0, 2, 3, 0, 0, 0, 3, 2, 2, 2, 2, 0, 2, 2, 0, 0, 2, 2, 2, 2, 0, 0, 0, 0, 2, 0, 0, 0, 2, 0, 2, 0, 2, 2, 1, 2, 0, 2, 2, 0, 2, 0, 0, 3, 3, 2, 0, 2, 0, 0, 0, 2, 0, 2, 2, 0, 0, 2, 2, 2, 0, 3, 3, 0, 2, 2, 2, 0, 0, 2, 0, 0, 3, 0, 2, 0, 2, 0, 0, 0, 0, 2, 0, 0, 2, 2, 0, 2, 0, 2, 2, 2, 0, 2, 2, 0, 1, 0, 0, 0, 1, 0, 0, 2, 2, 0, 2, 0, 0, 3, 0, 2, 0, 2, 2, 0, 0, 0, 0, 2, 0, 0, 0, 2, 2, 0, 2, 0, 1, 2, 2, 0, 3, 0, 3, 0, 0, 2, 0, 2, 0, 0, 3, 0, 2, 2, 2, 3, 2, 0, 2, 0, 2, 0, 2, 0, 0, 0, 0, 0, 2, 1, 0, 2, 2, 3, 2, 2, 0, 0, 0, 2, 2, 0, 2, 2, 1, 0, 2, 1, 0, 0, 0, 2, 0, 2, 0, 0, 0, 0, 1, 2, 0, 0, 2, 2, 2, 2, 2, 2, 3, 0, 0, 2, 2, 0, 1, 0, 2, 2, 2, 0, 2, 0, 0, 2, 3, 3, 2, 1, 2, 0, 2, 2, 2, 0, 2, 2, 2, 2, 1, 0, 0, 2, 3, 1, 1, 1, 2, 0, 0, 2, 0, 2, 3, 3, 2, 2, 0, 1, 2, 3, 0, 0, 0, 0, 2, 3, 0, 0, 1, 0, 2, 0, 0, 0, 0, 3, 0, 2, 2, 0, 0, 0, 2, 0, 3, 1, 0, 0, 2, 0, 1, 0, 1, 0, 0, 0, 0, 0, 2, 0, 2, 0, 0, 2, 0, 0, 3, 1, 1, 0, 0, 0, 1, 2, 0, 0, 0, 0, 1, 2, 0, 0, 0, 0, 0, 0, 0, 3, 0, 2, 2, 2, 0, 2, 0, 0, 0, 2, 0, 3, 3, 0, 2, 3, 2, 0, 0, 0, 0, 0, 0, 2, 3, 2, 2, 1, 0, 0, 0, 3, 0, 3, 0, 1, 0, 2, 0, 2, 2, 2, 2, 2, 2, 3, 3, 2, 0, 0, 0, 0, 0, 0, 2, 0, 0, 2, 2, 2, 1, 3, 2, 2, 2, 0, 2, 0, 2, 2, 0, 0, 0, 0, 2]\n",
      "[0, 0, 0, 3, 0, 1, 0, 3, 0, 0, 3, 0, 0, 0, 3, 0, 0, 1, 3, 3, 2, 1, 0, 0, 1, 3, 3, 1, 3, 1, 0, 3, 0, 1, 0, 3, 3, 1, 1, 1, 1, 0, 0, 0, 0, 0, 3, 0, 0, 3, 1, 0, 0, 0, 2, 1, 0, 3, 1, 0, 3, 3, 3, 2, 3, 1, 3, 0, 3, 3, 3, 3, 3, 3, 1, 1, 1, 0, 0, 3, 3, 3, 1, 3, 3, 3, 1, 3, 3, 1, 3, 0, 1, 3, 1, 0, 3, 2, 3, 3, 0, 1, 1, 3, 0, 3, 1, 3, 1, 1, 3, 3, 3, 3, 3, 3, 0, 3, 0, 3, 2, 3, 3, 3, 3, 2, 1, 0, 1, 1, 3, 3, 3, 3, 3, 3, 0, 0, 0, 1, 3, 1, 3, 0, 0, 0, 0, 0, 3, 3, 1, 3, 3, 3, 0, 3, 0, 3, 1, 3, 3, 0, 3, 1, 1, 3, 0, 0, 0, 0, 0, 3, 0, 0, 2, 0, 0, 3, 1, 1, 1, 3, 3, 3, 1, 0, 3, 3, 1, 3, 3, 3, 2, 0, 0, 1, 3, 1, 2, 3, 3, 0, 2, 0, 0, 0, 1, 0, 0, 3, 3, 3, 1, 3, 1, 3, 3, 2, 1, 0, 3, 1, 0, 1, 2, 0, 0, 2, 0, 3, 3, 3, 0, 3, 0, 1, 2, 0, 3, 3, 1, 1, 0, 0, 1, 3, 0, 0, 3, 0, 3, 3, 0, 0, 3, 0, 3, 3, 0, 0, 0, 0, 3, 3, 3, 3, 3, 0, 1, 3, 3, 1, 3, 3, 0, 3, 0, 0, 3, 0, 0, 0, 0, 3, 1, 0, 0, 0, 1, 0, 1, 0, 0, 1, 0, 1, 0, 0, 0, 3, 3, 0, 1, 1, 3, 1, 3, 0, 3, 1, 1, 3, 0, 1, 0, 0, 0, 0, 0, 3, 3, 1, 3, 3, 0, 2, 1, 3, 1, 1, 1, 1, 3, 3, 3, 3, 0, 0, 1, 1, 3, 1, 0, 3, 0, 0, 0, 0, 0, 3, 0, 0, 3, 3, 3, 3, 1, 3, 3, 3, 3, 1, 0, 0, 3, 3, 3, 3, 0, 1, 2, 3, 1, 0, 3, 3, 3, 3, 2, 1, 3, 1, 1, 3, 3, 0, 3, 2, 2, 2, 0, 0, 1, 1, 3, 3, 2, 1, 3, 1, 1, 3, 1, 0, 0, 0, 1, 1, 3, 1, 3, 3, 3, 3, 0, 0, 1, 3, 0, 1, 1, 3, 3, 3, 2, 3, 3, 1, 0, 0, 1, 3, 3, 3, 2, 1, 1, 2, 2, 1, 0, 0, 2, 3, 1, 1, 0, 0, 3, 3, 0, 0, 0, 1, 0, 3, 1, 3, 3, 3, 0, 2, 3, 1, 3, 0, 3, 3, 3, 3, 3, 3, 3, 3, 0, 0, 1, 3, 1, 0, 0, 3, 3, 3, 0, 3, 3, 0, 0, 1, 3, 2, 0, 1, 1, 1, 1, 3, 1, 0, 3, 1, 0, 0, 3, 0, 3, 3, 1, 1, 3, 0, 3, 1, 3, 0, 0, 3, 0, 1, 0, 0, 0, 0, 0, 0, 0, 1, 3, 0, 3, 1, 1, 0, 3, 2, 1, 3, 3, 1, 1, 1, 3, 1, 3, 0, 0, 1, 3, 1, 3, 1, 1, 1, 0, 0, 0, 1, 1, 1, 3, 1, 3, 1, 1, 3, 3, 3, 3, 0, 1, 1, 0, 0, 0, 1, 1, 1, 3, 1, 1, 1, 1, 3, 0, 3, 3, 1, 3, 0, 0, 0, 1, 3, 3, 3, 3, 1, 3, 0, 1, 2, 1, 1, 1, 1, 0, 0, 3, 1, 0, 0, 3, 3, 1, 1, 0, 0, 0, 3, 1, 1, 1, 1, 1, 3, 1, 3, 3, 3, 1, 0, 3, 3, 3, 2, 0, 0, 1, 0, 0, 0, 1, 1, 1, 1, 0, 3, 1, 1, 0, 1, 1, 0, 0, 3, 1, 2, 1, 3, 1, 1, 3, 0, 1, 1, 3, 0, 1, 2, 1, 1, 3, 1, 3, 1, 1, 0, 0, 0, 3, 3, 1, 0, 0, 3, 3, 0, 0, 1, 1, 0, 0, 0, 0, 2, 3, 1, 1, 3, 2, 1, 3, 3, 3, 3, 3, 2, 3, 0, 1, 1, 3, 1, 1, 1, 3, 1, 1, 3, 2, 3, 3, 1, 1, 0, 0, 1, 1, 1, 3, 3, 3, 3, 3, 3, 3, 3, 3, 0, 3, 1, 3, 2, 0]\n",
      "0.1919463087248322\n"
     ]
    },
    {
     "data": {
      "text/plain": [
       "<sklearn.metrics._plot.confusion_matrix.ConfusionMatrixDisplay at 0x7f3426fb2100>"
      ]
     },
     "execution_count": 10,
     "metadata": {},
     "output_type": "execute_result"
    },
    {
     "data": {
      "image/png": "[encoded data removed]",
      "text/plain": [
       "<Figure size 640x480 with 2 Axes>"
      ]
     },
     "metadata": {},
     "output_type": "display_data"
    }
   ],
   "source": [
    "from sklearn.metrics import ConfusionMatrixDisplay\n",
    "\n",
    "aux_score = (np.array(aux_gt_classes) == aux_object_predictions).sum() / len(aux_gt_classes)\n",
    "print(aux_score)\n",
    "\n",
    "print([v.cpu().item() for v in aux_pred_classes])\n",
    "print(aux_gt_classes)\n",
    "aux_pred_score = (np.array(aux_gt_classes) == np.array([v.cpu().item() for v in aux_pred_classes])).sum() / len(aux_gt_classes)\n",
    "print(aux_pred_score)\n",
    "\n",
    "ConfusionMatrixDisplay.from_predictions(y_true=aux_gt_classes, y_pred=[v.cpu().item() for v in aux_pred_classes], display_labels=[\n",
    "    v for v in MAPPING.values()\n",
    "])"
   ]
  },
  {
   "cell_type": "code",
   "execution_count": 8,
   "metadata": {},
   "outputs": [
    {
     "name": "stdout",
     "output_type": "stream",
     "text": [
      "0.8308724832214766\n"
     ]
    },
    {
     "data": {
      "text/plain": [
       "<sklearn.metrics._plot.confusion_matrix.ConfusionMatrixDisplay at 0x7f06ac5bfbe0>"
      ]
     },
     "execution_count": 8,
     "metadata": {},
     "output_type": "execute_result"
    },
    {
     "data": {
      "image/png": "[encoded data removed]",
      "text/plain": [
       "<Figure size 640x480 with 2 Axes>"
      ]
     },
     "metadata": {},
     "output_type": "display_data"
    }
   ],
   "source": [
    "from sklearn.metrics import ConfusionMatrixDisplay\n",
    "score = (np.array(gt_classes) == backbone_predictions).sum() / len(gt_classes)\n",
    "print(score)\n",
    "\n",
    "ConfusionMatrixDisplay.from_predictions(y_true=gt_classes, y_pred=object_predictions, display_labels=[\n",
    "    v for v in MAPPING.values()\n",
    "])"
   ]
  },
  {
   "cell_type": "code",
   "execution_count": 5,
   "metadata": {},
   "outputs": [],
   "source": [
    "import h5py\n",
    "import os\n",
    "\n",
    "def save_results_to_file(img_list, all_results, idx_to_token, result_dir):    \n",
    "    results_dict = {}    \n",
    "    for img_path, results in zip(img_list, all_results):        \n",
    "\n",
    "        results_dict[img_path] = []\n",
    "        for box, cap, score, view in zip(results['boxes'], results['caps'], results['scores'], results['views']):            \n",
    "            r = {\n",
    "                'box': [round(c, 2) for c in box.tolist()],\n",
    "                'score': round(score.item(), 2),\n",
    "                'cap': ' '.join(idx_to_token[idx] for idx in cap.tolist()\n",
    "                                if idx_to_token[idx] not in ['<pad>', '<bos>', '<eos>']),\n",
    "                'view': MAPPING[view.item()]\n",
    "            }            \n",
    "\n",
    "            results_dict[img_path].append(r)\n",
    "\n",
    "    if not os.path.exists(result_dir):\n",
    "        os.mkdir(result_dir)\n",
    "    with open(os.path.join(result_dir, 'result.json'), 'w') as f:\n",
    "        json.dump(results_dict, f, indent=2)    "
   ]
  },
  {
   "cell_type": "code",
   "execution_count": 6,
   "metadata": {},
   "outputs": [
    {
     "name": "stderr",
     "output_type": "stream",
     "text": [
      "100%|██████████| 100/100 [00:33<00:00,  3.03it/s]\n"
     ]
    }
   ],
   "source": [
    "from pathlib import Path\n",
    "import pickle\n",
    "\n",
    "lut_path = Path(\"./data/VG-regions-dicts-lite.pkl\")\n",
    "\n",
    "with open(lut_path, 'rb') as f:\n",
    "    look_up_tables = pickle.load(f)\n",
    "\n",
    "idx_to_token = look_up_tables['idx_to_token']\n",
    "\n",
    "device = torch.device('cuda')\n",
    "\n",
    "aux_model.eval()\n",
    "aux_model.to(device)\n",
    "all_results = []\n",
    "img_paths = []\n",
    "\n",
    "transform = tf.Compose([\n",
    "    # tf.Resize((200, 200)),\n",
    "    tf.ToTensor(),\n",
    "])\n",
    "\n",
    "dataset = Kitti(\"/home/markus/dev/EgoNet\", transform=transform, download=False)\n",
    "subset = Subset(dataset, np.random.default_rng().choice(np.arange(len(dataset)), 100))\n",
    "data_loader = DataLoader(subset, batch_size=1, shuffle=False)\n",
    "\n",
    "with torch.no_grad():\n",
    "    for images, targets, paths in tqdm(data_loader):                \n",
    "        images = images.to(device)\n",
    "        results = aux_model(images)\n",
    "        all_results.extend([{k:v.cpu() for k,v in r.items()} for r in results])\n",
    "        img_paths.extend(paths)\n",
    "\n",
    "\n",
    "save_results_to_file(img_paths, all_results, idx_to_token, \"res\")"
   ]
  },
  {
   "cell_type": "code",
   "execution_count": null,
   "metadata": {},
   "outputs": [],
   "source": []
  }
 ],
 "metadata": {
  "kernelspec": {
   "display_name": "Python 3",
   "language": "python",
   "name": "python3"
  },
  "language_info": {
   "codemirror_mode": {
    "name": "ipython",
    "version": 3
   },
   "file_extension": ".py",
   "mimetype": "text/x-python",
   "name": "python",
   "nbconvert_exporter": "python",
   "pygments_lexer": "ipython3",
   "version": "3.8.16"
  }
 },
 "nbformat": 4,
 "nbformat_minor": 0
}
