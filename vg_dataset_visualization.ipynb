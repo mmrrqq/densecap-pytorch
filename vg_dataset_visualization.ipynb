{
 "cells": [
  {
   "cell_type": "code",
   "execution_count": null,
   "metadata": {
    "collapsed": true
   },
   "outputs": [],
   "source": [
    "%matplotlib inline\n",
    "%load_ext autoreload\n",
    "%autoreload 2"
   ]
  },
  {
   "cell_type": "code",
   "execution_count": null,
   "metadata": {
    "collapsed": false
   },
   "outputs": [],
   "source": [
    "import visual_genome.local as vg\n",
    "\n",
    "VG_DATA_PATH = './data/visual-genome'\n",
    "\n",
    "# load vg image info and region description\n",
    "all_image_data = vg.get_all_image_data(data_dir=VG_DATA_PATH)\n",
    "all_region_descriptions = vg.get_all_region_descriptions(data_dir=VG_DATA_PATH)"
   ]
  },
  {
   "cell_type": "code",
   "execution_count": null,
   "metadata": {
    "collapsed": false
   },
   "outputs": [],
   "source": [
    "print('vg data size {}'.format(len(all_image_data)))\n",
    "print('-----------------')\n",
    "print('[all_image_data] type {}'.format(type(all_image_data[0])))\n",
    "print('example')\n",
    "print(all_image_data[0])\n",
    "print('-----------------')\n",
    "print('[all_region_descriptions] list of type {}'.format(type(all_region_descriptions[0][0])))\n",
    "print('example')\n",
    "print(all_region_descriptions[0])"
   ]
  },
  {
   "cell_type": "markdown",
   "metadata": {
    "collapsed": false
   },
   "source": [
    "### Visualizing ground truth regions"
   ]
  },
  {
   "cell_type": "code",
   "execution_count": null,
   "metadata": {
    "collapsed": false
   },
   "outputs": [],
   "source": [
    "import os\n",
    "import re\n",
    "\n",
    "def vg_url_to_file_path(vg_data_path, url):\n",
    "    \n",
    "    res = re.search('(VG.*)/(.*.jpg)$', url)\n",
    "    return os.path.join(vg_data_path, res.group(1), res.group(2))"
   ]
  },
  {
   "cell_type": "code",
   "execution_count": null,
   "metadata": {
    "collapsed": false
   },
   "outputs": [],
   "source": [
    "vg_url_to_file_path(VG_DATA_PATH, all_image_data[2].url)"
   ]
  },
  {
   "cell_type": "code",
   "execution_count": null,
   "metadata": {
    "collapsed": false
   },
   "outputs": [],
   "source": [
    "# Ref: https://github.com/ranjaykrishna/visual_genome_python_driver/blob/master/region_visualization_demo.ipynb\n",
    "\n",
    "import matplotlib.pyplot as plt\n",
    "from PIL import Image\n",
    "from matplotlib.patches import Rectangle\n",
    "\n",
    "def visualize_regions(image_file_path, regions):\n",
    "    fig = plt.gcf()\n",
    "    fig.set_size_inches(18.5, 10.5)\n",
    "\n",
    "    img = Image.open(image_file_path)\n",
    "    plt.imshow(img)\n",
    "    ax = plt.gca()\n",
    "    for region in regions:\n",
    "        ax.add_patch(Rectangle((region.x, region.y),\n",
    "                               region.width,\n",
    "                               region.height,\n",
    "                               fill=False,\n",
    "                               edgecolor='red',\n",
    "                               linewidth=3))\n",
    "        ax.text(region.x, region.y, region.phrase, style='italic', bbox={'facecolor':'white', 'alpha':0.7, 'pad':10})\n",
    "    fig = plt.gcf()\n",
    "    plt.tick_params(labelbottom='off', labelleft='off')\n",
    "    plt.show()\n",
    "\n",
    "IMG_NAME = 51\n",
    "img_idx = IMG_NAME - 1\n",
    "\n",
    "image_file_path = vg_url_to_file_path(VG_DATA_PATH, all_image_data[img_idx].url)\n",
    "regions = all_region_descriptions[img_idx]\n",
    "\n",
    "visualize_regions(image_file_path, regions[:20])"
   ]
  },
  {
   "cell_type": "markdown",
   "metadata": {
    "collapsed": false
   },
   "source": [
    "### Visualizing regions"
   ]
  },
  {
   "cell_type": "code",
   "execution_count": null,
   "metadata": {
    "collapsed": false
   },
   "outputs": [],
   "source": [
    "! python describe.py --help"
   ]
  },
  {
   "cell_type": "code",
   "execution_count": null,
   "metadata": {
    "collapsed": false
   },
   "outputs": [],
   "source": [
    "# 使用脚本\n",
    "! python describe.py --config_json './model_params/train_all_val_all_bz_2_epoch_10_inject_init/config.json' \\\n",
    "  --model_checkpoint './model_params/train_all_val_all_bz_2_epoch_10_inject_init.pth.tar' \\\n",
    "  --img_path './image_to_describe' \\\n",
    "  --result_dir '.' \\\n",
    "  --batch_size 2 --verbose"
   ]
  },
  {
   "cell_type": "code",
   "execution_count": null,
   "metadata": {
    "collapsed": false
   },
   "outputs": [],
   "source": [
    "import json\n",
    "\n",
    "RESULT_JSON_PATH = './res/result.json'\n",
    "with open(RESULT_JSON_PATH, 'r') as f:\n",
    "    results = json.load(f)\n",
    "\n",
    "for file_path in results.keys():\n",
    "    print(file_path)"
   ]
  },
  {
   "cell_type": "code",
   "execution_count": null,
   "metadata": {
    "collapsed": false
   },
   "outputs": [],
   "source": [
    "import matplotlib.pyplot as plt\n",
    "from PIL import Image\n",
    "from matplotlib.patches import Rectangle\n",
    "\n",
    "def visualize_result(image_file_path, result, idx_to_token=None):\n",
    "\n",
    "    fig = plt.gcf()\n",
    "    fig.set_size_inches(18.5, 10.5)\n",
    "\n",
    "    assert isinstance(result, list)\n",
    "\n",
    "    img = Image.open(image_file_path)\n",
    "    plt.imshow(img)\n",
    "    ax = plt.gca()\n",
    "    N = 0\n",
    "    for r in result:        \n",
    "        if N > 5:\n",
    "            break\n",
    "        \n",
    "        if idx_to_token is not None:\n",
    "            r['cap'] = ' '.join(idx_to_token[idx] for idx in r['cap'].tolist() if idx_to_token[idx] not in ['<pad>', '<bos>', '<eos>'])        \n",
    "        \n",
    "        if \"car\" not in r['cap']:\n",
    "            continue\n",
    "\n",
    "        N += 1\n",
    "\n",
    "        ax.add_patch(Rectangle((r['box'][0], r['box'][1]),\n",
    "                               r['box'][2]-r['box'][0],\n",
    "                               r['box'][3]-r['box'][1],\n",
    "                               fill=False,\n",
    "                               edgecolor='red',\n",
    "                               linewidth=3))\n",
    "        ax.text(r['box'][0], r['box'][1], r['cap'] + (r['view'] if 'view' in r else \"\"), style='italic', bbox={'facecolor':'white', 'alpha':0.7, 'pad':10})\n",
    "    fig = plt.gcf()\n",
    "    plt.tick_params(labelbottom='off', labelleft='off')\n",
    "    plt.show()"
   ]
  },
  {
   "cell_type": "code",
   "execution_count": null,
   "metadata": {},
   "outputs": [],
   "source": [
    "paths = list(results.keys())\n",
    "\n",
    "for path in paths:\n",
    "    visualize_result(path, results[path][:15])"
   ]
  },
  {
   "cell_type": "code",
   "execution_count": null,
   "metadata": {
    "collapsed": false
   },
   "outputs": [],
   "source": [
    "from pathlib import Path\n",
    "import pickle\n",
    "\n",
    "TO_K = 10\n",
    "\n",
    "lut_path = Path(\"./data/VG-regions-dicts-lite.pkl\")\n",
    "\n",
    "with open(lut_path, 'rb') as f:\n",
    "    look_up_tables = pickle.load(f)\n",
    "\n",
    "idx_to_token = look_up_tables['idx_to_token']\n",
    "\n",
    "\n",
    "with open('filtered_car_data.pkl', \"rb\") as file:            \n",
    "    img_info = pickle.load(file)            \n",
    "\n",
    "paths = list(img_info.keys())\n",
    "\n",
    "for r in img_info[paths[150]]:\n",
    "    cap = ' '.join(idx_to_token[idx] for idx in r['cap'].tolist() if idx_to_token[idx] not in ['<pad>', '<bos>', '<eos>'])\n",
    "    print(cap)\n",
    "\n",
    "visualize_result(paths[155], img_info[paths[155]][:TO_K], idx_to_token)"
   ]
  },
  {
   "cell_type": "code",
   "execution_count": null,
   "metadata": {
    "collapsed": false
   },
   "outputs": [],
   "source": []
  }
 ],
 "metadata": {
  "kernelspec": {
   "display_name": "Python 3",
   "language": "python",
   "name": "python3"
  },
  "language_info": {
   "codemirror_mode": {
    "name": "ipython",
    "version": 3
   },
   "file_extension": ".py",
   "mimetype": "text/x-python",
   "name": "python",
   "nbconvert_exporter": "python",
   "pygments_lexer": "ipython3",
   "version": "3.8.16"
  }
 },
 "nbformat": 4,
 "nbformat_minor": 0
}
