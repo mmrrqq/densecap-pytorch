{
 "cells": [
  {
   "cell_type": "code",
   "execution_count": 3,
   "metadata": {},
   "outputs": [],
   "source": [
    "import numpy as np\n",
    "\n",
    "## perform welchs two tailed t-test for random vs predicted accuracies\n",
    "# trained view predictor\n",
    "view_predicted = np.array([0.7036082474226805, 0.7044673539518901, 0.7036082474226805, 0.7036082474226805, 0.7044673539518901, 0.7044673539518901, 0.7044673539518901, 0.7036082474226805, 0.7036082474226805, 0.7044673539518901])\n",
    "view_random = np.array([0.6125429553264605, 0.6262886597938144, 0.6348797250859106, 0.6099656357388317, 0.6237113402061856, 0.6417525773195877, 0.6185567010309279, 0.602233676975945, 0.6185567010309279, 0.647766323024055])\n",
    "# trained view predictor and multiview_cap\n",
    "mv_cap_view_predicted = np.array([0.7268041237113402, 0.7268041237113402, 0.7268041237113402, 0.7268041237113402, 0.7268041237113402, 0.7268041237113402, 0.7268041237113402, 0.7268041237113402, 0.7259450171821306, 0.7268041237113402])\n",
    "mv_cap_view_random = np.array([0.7130584192439863, 0.7156357388316151, 0.7250859106529209, 0.7079037800687286, 0.7139175257731959, 0.7139175257731959, 0.7259450171821306, 0.729381443298969, 0.7036082474226805, 0.7310996563573883])\n",
    "\n",
    "mv_view_predicted = np.array([0.6967353951890034, 0.6967353951890034, 0.6958762886597938, 0.6958762886597938, 0.6967353951890034, 0.6967353951890034, 0.6958762886597938, 0.6967353951890034, 0.6967353951890034, 0.6967353951890034])\n",
    "mv_view_random = np.array([0.6752577319587629, 0.6726804123711341, 0.6761168384879725, 0.6890034364261168, 0.6649484536082474, 0.6675257731958762, 0.6735395189003437, 0.6615120274914089, 0.6503436426116839, 0.6572164948453608])"
   ]
  },
  {
   "cell_type": "code",
   "execution_count": 4,
   "metadata": {},
   "outputs": [
    {
     "data": {
      "text/plain": [
       "Ttest_indResult(statistic=-17.662822837696943, pvalue=2.6444170998629587e-08)"
      ]
     },
     "execution_count": 4,
     "metadata": {},
     "output_type": "execute_result"
    }
   ],
   "source": [
    "from scipy.stats import ttest_ind\n",
    "\n",
    "# equal_var=False performs welchs ttest\n",
    "ttest_ind(view_random, view_predicted, equal_var=False)"
   ]
  },
  {
   "cell_type": "code",
   "execution_count": 5,
   "metadata": {},
   "outputs": [
    {
     "name": "stdout",
     "output_type": "stream",
     "text": [
      "Ttest_indResult(statistic=-2.9623694257819824, pvalue=0.01586951146074235)\n"
     ]
    },
    {
     "data": {
      "text/plain": [
       "Ttest_indResult(statistic=-7.960397018020084, pvalue=2.2648163570854626e-05)"
      ]
     },
     "execution_count": 5,
     "metadata": {},
     "output_type": "execute_result"
    }
   ],
   "source": [
    "print(ttest_ind(mv_cap_view_random, mv_cap_view_predicted, equal_var=False))\n",
    "ttest_ind(mv_view_random, mv_view_predicted, equal_var=False)"
   ]
  },
  {
   "cell_type": "code",
   "execution_count": 6,
   "metadata": {},
   "outputs": [
    {
     "name": "stdout",
     "output_type": "stream",
     "text": [
      "0.6236254295532647 +- 0.013651145979868945\n",
      "0.7040378006872853 +- 0.00042955326460480947\n"
     ]
    }
   ],
   "source": [
    "print(f\"{view_random.mean()} +- {view_random.std()}\")\n",
    "print(f\"{view_predicted.mean()} +- {view_predicted.std()}\")"
   ]
  },
  {
   "cell_type": "markdown",
   "metadata": {},
   "source": []
  },
  {
   "cell_type": "code",
   "execution_count": 7,
   "metadata": {},
   "outputs": [
    {
     "name": "stdout",
     "output_type": "stream",
     "text": [
      "0.7179553264604811 +- 0.008870456926317102\n",
      "0.7267182130584192 +- 0.0002577319587628857\n",
      "0.6688144329896908 +- 0.010417884401135643\n",
      "0.6964776632302405 +- 0.0003936920700133869\n"
     ]
    }
   ],
   "source": [
    "print(f\"{mv_cap_view_random.mean()} +- {mv_cap_view_random.std()}\")\n",
    "print(f\"{mv_cap_view_predicted.mean()} +- {mv_cap_view_predicted.std()}\")\n",
    "\n",
    "print(f\"{mv_view_random.mean()} +- {mv_view_random.std()}\")\n",
    "print(f\"{mv_view_predicted.mean()} +- {mv_view_predicted.std()}\")"
   ]
  },
  {
   "cell_type": "code",
   "execution_count": 8,
   "metadata": {},
   "outputs": [],
   "source": [
    "# 1692539431.9839504_min_acc_min_cap_view\n",
    "view_pred = {0: 928, 1: 0,  2: 0,   3: 0,   4: 77,  5: 0,   6: 21,  7: 138}\n",
    "view_actual = {0: 308, 1: 51, 2: 152, 3: 69,  4: 182, 5: 62,  6: 133, 7: 207}\n",
    "\n",
    "# 1693415107.6382463_min_acc_min_cap_multiview_cap_view\n",
    "cap_mv_view_pred = {0: 556, 1: 0, 2: 0, 3: 0, 4: 89, 5: 0, 6: 0, 7: 519}\n",
    "cap_mv_view_actual = {0: 172, 1: 163, 2: 145, 3: 134, 4: 114, 5: 115, 6: 123, 7: 198}\n",
    "\n",
    "# 1693820974.163681_mean_acc_min_cap_multiview_view\n",
    "mv_view_pred = {0: 929, 1: 0, 2: 1, 3: 0, 4: 116, 5: 0, 6: 56, 7: 62}\n",
    "mv_view_actual = {0: 271, 1: 129, 2: 125, 3: 97, 4: 135, 5: 169, 6: 105, 7: 133}"
   ]
  },
  {
   "cell_type": "code",
   "execution_count": 27,
   "metadata": {},
   "outputs": [
    {
     "name": "stderr",
     "output_type": "stream",
     "text": [
      "/tmp/ipykernel_32152/180326214.py:56: UserWarning: Matplotlib is currently using pgf, which is a non-GUI backend, so cannot show the figure.\n",
      "  fig.show()\n",
      "/tmp/ipykernel_32152/180326214.py:57: UserWarning: This figure includes Axes that are not compatible with tight_layout, so results might be incorrect.\n",
      "  fig.tight_layout()\n"
     ]
    }
   ],
   "source": [
    "import matplotlib\n",
    "import matplotlib.pyplot as plt\n",
    "from matplotlib import cm\n",
    "\n",
    "matplotlib.use(\"pgf\")\n",
    "matplotlib.rcParams.update({\n",
    "    \"pgf.texsystem\": \"pdflatex\",\n",
    "    'font.family': 'serif',\n",
    "    'text.usetex': True,\n",
    "    'pgf.rcfonts': False,\n",
    "})\n",
    "\n",
    "cmap = matplotlib.colors.LinearSegmentedColormap.from_list(\"techfak\", [(0.95, 0.95, 0.95), (0.333, 0.549, 0.627)])\n",
    "\n",
    "def plot_view_distribution(pred_view_dict, actual_view_dict):\n",
    "       fig, (ax1, ax2) = plt.subplots(1, 2, figsize=(7, 3.5))\n",
    "       colorbax_ax = fig.add_axes([0.95, 0.125, 0.025, 0.75])\n",
    "       dummy_vals = [1, 1, 1, 1, 1, 1, 1, 1]\n",
    "       total = np.sum(list(pred_view_dict.values()))\n",
    "\n",
    "       pred_values = [f/total for f in pred_view_dict.values()]\n",
    "       pred_colors = [cmap(value) for value in pred_values]\n",
    "       pred_labels = [f\"{i}\\n{value * 100:.2F} %\" for i, value in enumerate(pred_values)]\n",
    "\n",
    "       actual_values = [f/total for f in actual_view_dict.values()]\n",
    "       actual_colors = [cmap(value) for value in actual_values]\n",
    "       actual_labels = [f\"{i}\\n{value * 100:.2F} %\" for i, value in enumerate(actual_values)]\n",
    "\n",
    "       _, texts = ax1.pie(dummy_vals, radius=1, colors=pred_colors, labels=pred_labels,\n",
    "              wedgeprops=dict(width=0.4, edgecolor='gray', linewidth=1), \n",
    "              startangle=-67.5, labeldistance=0.8, counterclock=False)\n",
    "       \n",
    "       for t in texts:\n",
    "              t.set_horizontalalignment('center')\n",
    "              t.set_fontsize(8)\n",
    "\n",
    "       _, texts = ax2.pie(dummy_vals, radius=1, colors=actual_colors, labels=actual_labels,\n",
    "              wedgeprops=dict(width=0.4, edgecolor='gray', linewidth=1), \n",
    "              startangle=-67.5, labeldistance=0.8, counterclock=False)\n",
    "       \n",
    "       ax1.set_title(\"predicted best vantage point distribution\")\n",
    "       ax2.set_title(\"actual best vantage point distribution\")\n",
    "       \n",
    "       # move second plot left\n",
    "       x, y, w, h = ax2.get_position().bounds\n",
    "       ax2.set_position([x+0.05, y, w, h])       \n",
    "       \n",
    "       for t in texts:\n",
    "              t.set_horizontalalignment('center')\n",
    "              t.set_fontsize(8)\n",
    "\n",
    "       cbar = fig.colorbar(cm.ScalarMappable(norm=None, cmap=cmap), cax=colorbax_ax)\n",
    "       cbar.set_ticks([0, 0.5, 1.0], labels=[\"0 %\", \"50 %\", \"100 %\"])\n",
    "       cbar.ax.yaxis.tick_left()\n",
    "              \n",
    "       fig.show()\n",
    "       fig.tight_layout()\n",
    "       return fig\n",
    "\n",
    "view_fig = plot_view_distribution(view_pred, view_actual)\n",
    "\n",
    "view_fig.savefig(\"../ma_thesis/gfx/view_distribution/view_fig.pgf\", bbox_inches='tight')\n",
    "\n",
    "cap_mv_view_fig = plot_view_distribution(cap_mv_view_pred, cap_mv_view_actual)\n",
    "\n",
    "cap_mv_view_fig.savefig(\"../ma_thesis/gfx/view_distribution/cap_mv_view_fig.pgf\", bbox_inches='tight')\n",
    "\n",
    "mv_view_fig = plot_view_distribution(mv_view_pred, mv_view_actual)\n"
   ]
  },
  {
   "cell_type": "code",
   "execution_count": null,
   "metadata": {},
   "outputs": [],
   "source": []
  }
 ],
 "metadata": {
  "kernelspec": {
   "display_name": "dnscp",
   "language": "python",
   "name": "python3"
  },
  "language_info": {
   "codemirror_mode": {
    "name": "ipython",
    "version": 3
   },
   "file_extension": ".py",
   "mimetype": "text/x-python",
   "name": "python",
   "nbconvert_exporter": "python",
   "pygments_lexer": "ipython3",
   "version": "3.8.16"
  },
  "orig_nbformat": 4
 },
 "nbformat": 4,
 "nbformat_minor": 2
}
